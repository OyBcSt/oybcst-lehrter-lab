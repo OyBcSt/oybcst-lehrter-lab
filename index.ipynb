{
 "cells": [
  {
   "cell_type": "markdown",
   "metadata": {},
   "source": [
    "# Lehrter Lab Data - For NOAA RESTORE\n",
    "\n",
    "Data cleaning of spreadsheet on Lehrter Lab Google Drive"
   ]
  },
  {
   "cell_type": "code",
   "execution_count": null,
   "metadata": {},
   "outputs": [],
   "source": [
    "# load libraries, suppress warnings\n",
    "suppressPackageStartupMessages({\n",
    "#Plots\n",
    "library(ggplot2)\n",
    "#To make the map\n",
    "library(leaflet)\n",
    "#For manipulating data frames\n",
    "library(dplyr)\n",
    "#Dealing with Time\n",
    "library(lubridate)\n",
    "#For getSheetNames\n",
    "library(openxlsx)\n",
    "#For reading XLSX\n",
    "library(readxl)\n",
    "})"
   ]
  },
  {
   "cell_type": "markdown",
   "metadata": {},
   "source": [
    "# Contents\n",
    "- Data Entry Protocol: text instructions\n",
    "- Metadata : info on names and such\n",
    "- etc."
   ]
  },
  {
   "cell_type": "code",
   "execution_count": null,
   "metadata": {},
   "outputs": [],
   "source": [
    "filename <- \"RestoreMasterData2020-2023.xlsx\""
   ]
  },
  {
   "cell_type": "code",
   "execution_count": null,
   "metadata": {},
   "outputs": [],
   "source": [
    "sheets <- getSheetNames(filename)\n",
    "sheets"
   ]
  },
  {
   "cell_type": "markdown",
   "metadata": {},
   "source": [
    "## Let's just try the Cruise Data"
   ]
  },
  {
   "cell_type": "code",
   "execution_count": null,
   "metadata": {},
   "outputs": [],
   "source": [
    "df <- read_excel(filename,sheet=\"Cruise Data\")"
   ]
  },
  {
   "cell_type": "code",
   "execution_count": null,
   "metadata": {},
   "outputs": [],
   "source": [
    "head(df)"
   ]
  },
  {
   "cell_type": "markdown",
   "metadata": {},
   "source": [
    "## Date and Time\n",
    "Note, R recognizes Time and Date, unlike when we manually exported the CSV, BUT it adds an erroneous year.\n",
    "\n",
    "Also, when we used CSV, R knew that lat/lon and other things were numbers.  Oh well, here goes..."
   ]
  },
  {
   "cell_type": "markdown",
   "metadata": {},
   "source": [
    "## Rename the columns"
   ]
  },
  {
   "cell_type": "code",
   "execution_count": null,
   "metadata": {},
   "outputs": [],
   "source": [
    "names(df)[names(df) == 'Cruise ID'] <- 'CruiseID'\n",
    "names(df)[names(df) == 'Station ID'] <- 'StationID'\n",
    "names(df)[names(df) == 'Water station'] <- 'isWaterStation'\n",
    "names(df)[names(df) == 'Bottom Water'] <- 'isBottomWater'\n",
    "names(df)[names(df) == 'Secchi (m)'] <- 'Secchi_m'\n",
    "names(df)[names(df) == 'Depth (ft)'] <- 'Depth_ft'\n",
    "names(df)[names(df) == 'Depth (m)'] <- 'Depth_m'\n",
    "names(df)[names(df) == 'CTD #'] <- 'CTDnum'"
   ]
  },
  {
   "cell_type": "code",
   "execution_count": null,
   "metadata": {},
   "outputs": [],
   "source": [
    "head(df)"
   ]
  },
  {
   "cell_type": "markdown",
   "metadata": {},
   "source": [
    "## Recast variables\n",
    "These need to be floating point numbers\n",
    "- Latitude\n",
    "- Longitude\n",
    "- Secchi_m\n",
    "- Depth_ft\n",
    "- Depth_m\n",
    "\n",
    "This should be integer (I think?)\n",
    "- CTDnum\n",
    "\n",
    "These should be boolean (e.g., True/False)\n",
    "- isWaterStation\n",
    "- isBottomWater\n",
    "\n",
    "**Note: Check those NAs!**"
   ]
  },
  {
   "cell_type": "code",
   "execution_count": null,
   "metadata": {},
   "outputs": [],
   "source": [
    "#numeric\n",
    "df$Latitude = as.numeric(df$Latitude)\n",
    "df$Longitude = as.numeric(df$Longitude)\n",
    "df$Secchi_m = as.numeric(df$Secchi_m)\n",
    "df$Depth_m = as.numeric(df$Depth_m)\n",
    "df$Depth_ft = as.numeric(df$Depth_ft)\n",
    "df$Depth_m = as.numeric(df$Depth_m)"
   ]
  },
  {
   "cell_type": "code",
   "execution_count": null,
   "metadata": {},
   "outputs": [],
   "source": [
    "#integer\n",
    "df$CTDnum = as.integer(df$CTDnum)"
   ]
  },
  {
   "cell_type": "code",
   "execution_count": null,
   "metadata": {},
   "outputs": [],
   "source": [
    "#Boolean\n",
    "df <- df %>% \n",
    "  mutate(isWaterStation = recode(isWaterStation, Y = TRUE, N = FALSE))\n",
    "df <- df %>% \n",
    "  mutate(isBottomWater = recode(isBottomWater, Y = TRUE, N = FALSE))\n",
    "#Note, if you run this cell twice, you'll get an error.  Restart the kernal or reread the dataframe to reset."
   ]
  },
  {
   "cell_type": "code",
   "execution_count": null,
   "metadata": {},
   "outputs": [],
   "source": [
    "#Time\n",
    "df$Newtime <- format(as.POSIXct(df$Time), format = \"%H:%M:%S\")\n",
    "df$Newdate <- format(as.POSIXct(df$Date), format = \"%m/%d/%Y\")\n",
    "df$timestamp <- as.POSIXct(paste(df$Newdate, df$Newtime), format=\"%m/%d/%Y %H:%M:%S\")"
   ]
  },
  {
   "cell_type": "code",
   "execution_count": null,
   "metadata": {},
   "outputs": [],
   "source": [
    "head(df)"
   ]
  },
  {
   "cell_type": "markdown",
   "metadata": {},
   "source": [
    "## Check the data"
   ]
  },
  {
   "cell_type": "code",
   "execution_count": null,
   "metadata": {},
   "outputs": [],
   "source": [
    "## Define bounding box\n",
    "latmin = 30.10\n",
    "latmax = 30.96\n",
    "lonmin = -88.75\n",
    "lonmax = -87.4"
   ]
  },
  {
   "cell_type": "code",
   "execution_count": null,
   "metadata": {},
   "outputs": [],
   "source": [
    "# Mobile Bay\n",
    "leaflet(df) %>%\n",
    "      addTiles() %>%\n",
    "      setView(lng = -87.98733, lat = 30.50355, zoom = 9) %>%\n",
    "      addRectangles(\n",
    "        lng1=lonmin, lat1=latmin,\n",
    "        lng2=lonmax, lat2=latmax,\n",
    "        fillColor = \"transparent\") %>%\n",
    "        addCircles(lng = ~Longitude, lat = ~Latitude, weight = 5,\n",
    "                radius = 500, popup = ~StationID)\n"
   ]
  },
  {
   "cell_type": "markdown",
   "metadata": {},
   "source": [
    "## Check with some plots"
   ]
  },
  {
   "cell_type": "code",
   "execution_count": null,
   "metadata": {},
   "outputs": [],
   "source": [
    "#General plot options\n",
    "options(repr.plot.width=25, repr.plot.height=6)\n",
    "plot(df$timestamp,df$Depth_m,xaxt=\"n\",ylab=\"Depth (m)\",xlab=\"\")\n",
    "axis(1, df$timestamp, format(df$timestamp, \"%m-%d-%Y %H:%M:%S\"))"
   ]
  },
  {
   "cell_type": "markdown",
   "metadata": {},
   "source": [
    "## Try for a better looking plot\n",
    "I tried ggplot to get the times on the axis, but ggplot doesn't do posix.  It might look better, but I can't get times."
   ]
  },
  {
   "cell_type": "code",
   "execution_count": null,
   "metadata": {},
   "outputs": [],
   "source": [
    "#ggplot needs 'as.Date', but it removes the time parts\n",
    "df$asDate = as.Date(df$timestamp)"
   ]
  },
  {
   "cell_type": "code",
   "execution_count": null,
   "metadata": {},
   "outputs": [],
   "source": [
    "ggplot(df,aes(asDate,Depth_m)) + \n",
    "    geom_point() +\n",
    "    scale_x_date(date_breaks = \"1 month\") +\n",
    "    theme(axis.text.x = element_text(angle = 45, hjust = 1))"
   ]
  },
  {
   "cell_type": "markdown",
   "metadata": {},
   "source": [
    "## A plot showing time\n",
    "Need to zoom in, then it sort of works.\n"
   ]
  },
  {
   "cell_type": "code",
   "execution_count": null,
   "metadata": {},
   "outputs": [],
   "source": [
    "#Limit the date range to try to zoom in\n",
    "min = as.POSIXct(\"2020-05-26 00:00:00\")\n",
    "max = as.POSIXct(\"2020-06-01 00:00:00\")\n",
    "df <- df %>% filter(Date >=min & Date <=max)"
   ]
  },
  {
   "cell_type": "code",
   "execution_count": null,
   "metadata": {},
   "outputs": [],
   "source": [
    "#General plot options\n",
    "options(repr.plot.width=25, repr.plot.height=6)\n",
    "plot(df$timestamp,df$Depth_m,xaxt=\"n\",ylab=\"Depth (m)\",xlab=\"\")\n",
    "axis(1, df$timestamp, format(df$timestamp, \"%H:%M\"))"
   ]
  }
 ],
 "metadata": {
  "kernelspec": {
   "display_name": "R",
   "language": "R",
   "name": "ir"
  },
  "language_info": {
   "codemirror_mode": "r",
   "file_extension": ".r",
   "mimetype": "text/x-r-source",
   "name": "R",
   "pygments_lexer": "r",
   "version": "4.2.1"
  }
 },
 "nbformat": 4,
 "nbformat_minor": 4
}
